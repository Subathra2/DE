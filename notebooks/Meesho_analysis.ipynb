{
 "cells": [
  {
   "cell_type": "code",
   "execution_count": 36,
   "metadata": {},
   "outputs": [],
   "source": [
    "import requests\n",
    "from scrapy import Selector\n",
    "import pandas as pd\n",
    "from tqdm.notebook import tqdm"
   ]
  },
  {
   "cell_type": "code",
   "execution_count": 37,
   "metadata": {},
   "outputs": [],
   "source": [
    "url = \"https://www.meesho.com/tops-ladies/pl/3ja\"\n",
    "response = requests.get(url)"
   ]
  },
  {
   "cell_type": "code",
   "execution_count": 38,
   "metadata": {},
   "outputs": [
    {
     "name": "stdout",
     "output_type": "stream",
     "text": [
      "Everything is OK, status code: 200\n",
      "<!DOCTYPE html><html lang=\"en\"><head><title>Tops for Women, Ladies, Girls Shopping Online | Meesho.<\n"
     ]
    }
   ],
   "source": [
    "if not response.status_code == 200:\n",
    "    print('Something went wrong, status code:', response.status_code)\n",
    "else:\n",
    "    print('Everything is OK, status code:', response.status_code)\n",
    "\n",
    "print(response.text[:100])"
   ]
  },
  {
   "cell_type": "code",
   "execution_count": 39,
   "metadata": {},
   "outputs": [],
   "source": [
    "select = Selector(text=response.text) "
   ]
  },
  {
   "cell_type": "code",
   "execution_count": 40,
   "metadata": {},
   "outputs": [
    {
     "data": {
      "text/plain": [
       "'Zamaisha Rayon Tops & Tunics'"
      ]
     },
     "execution_count": 40,
     "metadata": {},
     "output_type": "execute_result"
    }
   ],
   "source": [
    "select.css(\"div.NewProductCardstyled__ProductHeaderWrapper-sc-6y2tys-32.knWeEt > p::text\").get()\n"
   ]
  },
  {
   "cell_type": "code",
   "execution_count": 41,
   "metadata": {},
   "outputs": [
    {
     "data": {
      "text/plain": [
       "20"
      ]
     },
     "execution_count": 41,
     "metadata": {},
     "output_type": "execute_result"
    }
   ],
   "source": [
    "name = select.css(\"div.NewProductCardstyled__ProductHeaderWrapper-sc-6y2tys-32.knWeEt > p::text\").getall()\n",
    "len(name)"
   ]
  },
  {
   "cell_type": "code",
   "execution_count": 42,
   "metadata": {},
   "outputs": [
    {
     "data": {
      "text/plain": [
       "['Zamaisha Rayon Tops & Tunics',\n",
       " 'Pretty Graceful Women Tops & Tunics',\n",
       " 'Pretty Latest Women Tops & Tunics',\n",
       " 'Trendy Glamorous Women Tops & Tunics',\n",
       " 'Stylish Fabulous Women Tops & Tunics',\n",
       " 'Fancy Glamorous Women Tops & Tunics',\n",
       " 'Aagyeyi Pretty  Tops & Tunics',\n",
       " 'Trendy Sensational Women Tops & Tunics',\n",
       " 'Classic Designer Women Tops & Tunics',\n",
       " 'Classy Elegant Women  & Tunics',\n",
       " 'Fancy Fabulous Women Tops & Tunics',\n",
       " 'Classic Partywear Women Tops & Tunics',\n",
       " 'Fancy Partywear Women Tops & Tunics',\n",
       " 'Trendy Designer Women Tops & Tunics',\n",
       " 'Pretty Glamorous Women Tops & Tunics',\n",
       " \"Dream Beauty Fashion Women's Tops & Tunics\",\n",
       " 'Myra AttractiveTop and Tunics',\n",
       " 'Trendy Latest Women Tops & Tunics',\n",
       " 'Pretty Sensational Women Tops & Tunics',\n",
       " 'Stylish Partywear Women Tops & Tunics']"
      ]
     },
     "execution_count": 42,
     "metadata": {},
     "output_type": "execute_result"
    }
   ],
   "source": [
    "name"
   ]
  },
  {
   "cell_type": "code",
   "execution_count": 43,
   "metadata": {},
   "outputs": [],
   "source": [
    "# price=select.css(\" div.sc-ftTHYK.ijCOEg.NewProductCardstyled__PriceRow-sc-6y2tys-7.aLtVl.NewProductCardstyled__PriceRow-sc-6y2tys-7.aLtVl > h5::text\").getall()"
   ]
  },
  {
   "cell_type": "code",
   "execution_count": 44,
   "metadata": {},
   "outputs": [],
   "source": [
    "price=select.css(\".sc-eDvSVe.dwCrSh::text\").getall()"
   ]
  },
  {
   "cell_type": "code",
   "execution_count": 45,
   "metadata": {},
   "outputs": [
    {
     "data": {
      "text/plain": [
       "['₹',\n",
       " '242',\n",
       " ' ',\n",
       " '₹',\n",
       " '155',\n",
       " ' ',\n",
       " '₹',\n",
       " '153',\n",
       " ' ',\n",
       " '₹',\n",
       " '203',\n",
       " ' ',\n",
       " '₹',\n",
       " '164',\n",
       " ' ',\n",
       " '₹',\n",
       " '251',\n",
       " ' ',\n",
       " '₹',\n",
       " '281',\n",
       " ' ',\n",
       " '₹',\n",
       " '179',\n",
       " ' ',\n",
       " '₹',\n",
       " '201',\n",
       " ' ',\n",
       " '₹',\n",
       " '248',\n",
       " ' ',\n",
       " '₹',\n",
       " '189',\n",
       " ' ',\n",
       " '₹',\n",
       " '204',\n",
       " ' ',\n",
       " '₹',\n",
       " '229',\n",
       " ' ',\n",
       " '₹',\n",
       " '204',\n",
       " ' ',\n",
       " '₹',\n",
       " '194',\n",
       " ' ',\n",
       " '₹',\n",
       " '189',\n",
       " ' ',\n",
       " '₹',\n",
       " '214',\n",
       " ' ',\n",
       " '₹',\n",
       " '184',\n",
       " ' ',\n",
       " '₹',\n",
       " '228',\n",
       " ' ',\n",
       " '₹',\n",
       " '165',\n",
       " ' ']"
      ]
     },
     "execution_count": 45,
     "metadata": {},
     "output_type": "execute_result"
    }
   ],
   "source": [
    "price"
   ]
  },
  {
   "cell_type": "code",
   "execution_count": 46,
   "metadata": {},
   "outputs": [],
   "source": [
    "p = [p.strip() for p in price if p.strip()]"
   ]
  },
  {
   "cell_type": "code",
   "execution_count": 47,
   "metadata": {},
   "outputs": [
    {
     "data": {
      "text/plain": [
       "['242',\n",
       " '155',\n",
       " '153',\n",
       " '203',\n",
       " '164',\n",
       " '251',\n",
       " '281',\n",
       " '179',\n",
       " '201',\n",
       " '248',\n",
       " '189',\n",
       " '204',\n",
       " '229',\n",
       " '204',\n",
       " '194',\n",
       " '189',\n",
       " '214',\n",
       " '184',\n",
       " '228',\n",
       " '165']"
      ]
     },
     "execution_count": 47,
     "metadata": {},
     "output_type": "execute_result"
    }
   ],
   "source": [
    "rupee_symbol = [p for p in p if p == '₹']\n",
    "cleaned_prices = [p for p in p if p != '₹']\n",
    "cleaned_prices"
   ]
  },
  {
   "cell_type": "code",
   "execution_count": 48,
   "metadata": {},
   "outputs": [
    {
     "data": {
      "text/plain": [
       "['Free Delivery',\n",
       " 'Free Delivery',\n",
       " 'Free Delivery',\n",
       " 'Free Delivery',\n",
       " 'Free Delivery',\n",
       " 'Free Delivery',\n",
       " 'Free Delivery',\n",
       " 'Free Delivery',\n",
       " 'Free Delivery',\n",
       " 'Free Delivery',\n",
       " 'Free Delivery',\n",
       " 'Free Delivery',\n",
       " 'Free Delivery',\n",
       " 'Free Delivery',\n",
       " 'Free Delivery',\n",
       " 'Free Delivery',\n",
       " 'Free Delivery',\n",
       " 'Free Delivery',\n",
       " 'Free Delivery',\n",
       " 'Free Delivery']"
      ]
     },
     "execution_count": 48,
     "metadata": {},
     "output_type": "execute_result"
    }
   ],
   "source": [
    "select.css(\".sc-eDvSVe.fkvMlU::text\").getall()"
   ]
  },
  {
   "cell_type": "markdown",
   "metadata": {},
   "source": [
    "rating"
   ]
  },
  {
   "cell_type": "code",
   "execution_count": 49,
   "metadata": {},
   "outputs": [],
   "source": [
    "rating=select.css(\".sc-eDvSVe.laVOtN::text\").getall()"
   ]
  },
  {
   "cell_type": "code",
   "execution_count": 50,
   "metadata": {},
   "outputs": [
    {
     "data": {
      "text/plain": [
       "['/',\n",
       " '/fancify-designed-womens-fashion-floral-printed-attractive-red-leafy-leaf-printed-rayon-top-top-shirt-style-top-for-women-with-three-quarter-sleeves-western-top-for-women-and-girls-cottonrayon-tops-tops-tops-for-summer-for-women-tops-on-jeans-tops-n-tunics/p/3s8xq']"
      ]
     },
     "execution_count": 50,
     "metadata": {},
     "output_type": "execute_result"
    }
   ],
   "source": [
    "select.css(\"div:nth-child(1) > a::attr(href)\").getall()"
   ]
  },
  {
   "cell_type": "code",
   "execution_count": 51,
   "metadata": {},
   "outputs": [
    {
     "data": {
      "text/plain": [
       "['/fancify-designed-womens-fashion-floral-printed-attractive-red-leafy-leaf-printed-rayon-top-top-shirt-style-top-for-women-with-three-quarter-sleeves-western-top-for-women-and-girls-cottonrayon-tops-tops-tops-for-summer-for-women-tops-on-jeans-tops-n-tunics/p/3s8xq',\n",
       " '/tusi-tank-top-combo-black-white-01/p/3x8t00',\n",
       " '/modern-classic-puff-style-full-sleeve-crop-top/p/7m8iw9',\n",
       " '/trendy-full-sleeves-top-for-women/p/5o6yx2',\n",
       " '/long-sleeve-rib-knit-tie-front-cropped-cardigan-top/p/6hzebm',\n",
       " '/jiya-womens-rayon-printed-stylish-top/p/2ogunl',\n",
       " '/tops-tunics/p/3477fp',\n",
       " '/v-neck-toptshirts-tunics-top-for-womangirlsstyles-topdesigner-topwestern-wear-topcasual-toprib-top/p/4elzms',\n",
       " '/house-of-fashion-queen-western-georgette-tops-tunics/p/5msnqf',\n",
       " '/women-rayon-printed-yellow-top/p/16ja8z',\n",
       " '/cnqfs-fashions-stylish-pink-color-printed-polycotton-fabric-top-for-women-tp001-4/p/83acbx',\n",
       " '/beautiful-women-cotton-top/p/5ajnsn',\n",
       " '/top/p/6gfxv0',\n",
       " '/stylish-top/p/6k2pob',\n",
       " '/womens-stylish-french-crepe-printed-top/p/4ykzaa',\n",
       " '/dream-beauty-fashion-womens-sweetheart-neck-white-tops-tunics/p/5m7bxg',\n",
       " '/women-embrodery-green-top-frocktopkurtitop/p/r6g9b',\n",
       " '/classic-ravishing-women-tops-tunics/p/6oj4lp',\n",
       " '/top/p/6vg7ub',\n",
       " '/women-casual-wear-square-neck-half-sleeve-cotton-blend-ribbed-top/p/5uc86k']"
      ]
     },
     "execution_count": 51,
     "metadata": {},
     "output_type": "execute_result"
    }
   ],
   "source": [
    "select.css(\".sc-dkrFOg.ProductListItem__GridCol-sc-1baba2g-0.dAbGbG.kdQjpv a::attr(href)\").getall()"
   ]
  },
  {
   "cell_type": "code",
   "execution_count": 52,
   "metadata": {},
   "outputs": [],
   "source": [
    "links = select.css(\".sc-dkrFOg.ProductListItem__GridCol-sc-1baba2g-0.dAbGbG.kdQjpv a::attr(href)\").getall()"
   ]
  },
  {
   "cell_type": "code",
   "execution_count": 53,
   "metadata": {},
   "outputs": [
    {
     "data": {
      "text/plain": [
       "['/fancify-designed-womens-fashion-floral-printed-attractive-red-leafy-leaf-printed-rayon-top-top-shirt-style-top-for-women-with-three-quarter-sleeves-western-top-for-women-and-girls-cottonrayon-tops-tops-tops-for-summer-for-women-tops-on-jeans-tops-n-tunics/p/3s8xq',\n",
       " '/tusi-tank-top-combo-black-white-01/p/3x8t00',\n",
       " '/modern-classic-puff-style-full-sleeve-crop-top/p/7m8iw9',\n",
       " '/trendy-full-sleeves-top-for-women/p/5o6yx2',\n",
       " '/long-sleeve-rib-knit-tie-front-cropped-cardigan-top/p/6hzebm',\n",
       " '/jiya-womens-rayon-printed-stylish-top/p/2ogunl',\n",
       " '/tops-tunics/p/3477fp',\n",
       " '/v-neck-toptshirts-tunics-top-for-womangirlsstyles-topdesigner-topwestern-wear-topcasual-toprib-top/p/4elzms',\n",
       " '/house-of-fashion-queen-western-georgette-tops-tunics/p/5msnqf',\n",
       " '/women-rayon-printed-yellow-top/p/16ja8z',\n",
       " '/cnqfs-fashions-stylish-pink-color-printed-polycotton-fabric-top-for-women-tp001-4/p/83acbx',\n",
       " '/beautiful-women-cotton-top/p/5ajnsn',\n",
       " '/top/p/6gfxv0',\n",
       " '/stylish-top/p/6k2pob',\n",
       " '/womens-stylish-french-crepe-printed-top/p/4ykzaa',\n",
       " '/dream-beauty-fashion-womens-sweetheart-neck-white-tops-tunics/p/5m7bxg',\n",
       " '/women-embrodery-green-top-frocktopkurtitop/p/r6g9b',\n",
       " '/classic-ravishing-women-tops-tunics/p/6oj4lp',\n",
       " '/top/p/6vg7ub',\n",
       " '/women-casual-wear-square-neck-half-sleeve-cotton-blend-ribbed-top/p/5uc86k']"
      ]
     },
     "execution_count": 53,
     "metadata": {},
     "output_type": "execute_result"
    }
   ],
   "source": [
    "links"
   ]
  },
  {
   "cell_type": "code",
   "execution_count": 54,
   "metadata": {},
   "outputs": [
    {
     "data": {
      "text/plain": [
       "20"
      ]
     },
     "execution_count": 54,
     "metadata": {},
     "output_type": "execute_result"
    }
   ],
   "source": [
    "len(links)"
   ]
  },
  {
   "cell_type": "code",
   "execution_count": 55,
   "metadata": {},
   "outputs": [
    {
     "data": {
      "text/plain": [
       "'https://www.meesho.com/fancify-designed-womens-fashion-floral-printed-attractive-red-leafy-leaf-printed-rayon-top-top-shirt-style-top-for-women-with-three-quarter-sleeves-western-top-for-women-and-girls-cottonrayon-tops-tops-tops-for-summer-for-women-tops-on-jeans-tops-n-tunics/p/3s8xq'"
      ]
     },
     "execution_count": 55,
     "metadata": {},
     "output_type": "execute_result"
    }
   ],
   "source": [
    "full_link=\"https://www.meesho.com\"+links[0]\n",
    "full_link"
   ]
  },
  {
   "cell_type": "code",
   "execution_count": 56,
   "metadata": {},
   "outputs": [],
   "source": [
    "response_2=requests.get(full_link)\n",
    "Select_2=Selector(text=response_2.text)"
   ]
  },
  {
   "cell_type": "markdown",
   "metadata": {},
   "source": [
    "size"
   ]
  },
  {
   "cell_type": "code",
   "execution_count": 57,
   "metadata": {},
   "outputs": [
    {
     "data": {
      "text/plain": [
       "'XS'"
      ]
     },
     "execution_count": 57,
     "metadata": {},
     "output_type": "execute_result"
    }
   ],
   "source": [
    "Select_2.css(\".sc-eDvSVe.gttzLo::text\").get()"
   ]
  },
  {
   "cell_type": "markdown",
   "metadata": {},
   "source": [
    "name"
   ]
  },
  {
   "cell_type": "code",
   "execution_count": 58,
   "metadata": {},
   "outputs": [
    {
     "data": {
      "text/plain": [
       "\"FANCIFY designed Women's fashion Floral Printed attractive   Red Leafy leaf printed Rayon Top top shirt style top for women with three quarter sleeves western top for women and girls Cotton/Rayon tops ,Tops, Tops for summer for women, tops on jeans, tops n tunics\""
      ]
     },
     "execution_count": 58,
     "metadata": {},
     "output_type": "execute_result"
    }
   ],
   "source": [
    "Select_2.css(\".sc-eDvSVe.guezwa.pre.pre::text\").getall()[2]"
   ]
  },
  {
   "cell_type": "markdown",
   "metadata": {},
   "source": [
    "size amount"
   ]
  },
  {
   "cell_type": "markdown",
   "metadata": {},
   "source": [
    "fabric"
   ]
  },
  {
   "cell_type": "code",
   "execution_count": 59,
   "metadata": {},
   "outputs": [
    {
     "name": "stdout",
     "output_type": "stream",
     "text": [
      "Unknown\n"
     ]
    }
   ],
   "source": [
    "import re\n",
    "\n",
    "# Extract the text from the specified element\n",
    "text = Select_2.css(\"#__next > div.sc-bcXHqe.Pagestyled__ContainerStyled-sc-ynkej6-1.cppHWG.gLTMWM > div > div.sc-dkrFOg.Pagestyled__ColStyled-sc-ynkej6-2.rxVgu.rttYu > div.sc-ftTHYK.hqYVzH.ProductDescription__StyledCard-sc-1l1jg0i-2.iDeBff.ProductDescription__StyledCard-sc-1l1jg0i-2.iDeBff > div > p:nth-child(2)::text\").getall()\n",
    "\n",
    "# Join the list into a single string and strip leading/trailing whitespace\n",
    "cleaned_text = \" \".join(text).strip()\n",
    "\n",
    "# Regular expression to extract the fabric name after the word 'Fabric'\n",
    "match = re.search(r\"Fabric\\s*[:\\-]?\\s*(\\w+)\", cleaned_text)\n",
    "\n",
    "# Check if a match was found\n",
    "if match:\n",
    "    fabric_name = match.group(1)  # Extract the fabric name\n",
    "else:\n",
    "    fabric_name = \"Unknown\"  # Fallback if no match found\n",
    "\n",
    "print(fabric_name)\n"
   ]
  },
  {
   "cell_type": "markdown",
   "metadata": {},
   "source": [
    " net quantity"
   ]
  },
  {
   "cell_type": "code",
   "execution_count": 60,
   "metadata": {},
   "outputs": [
    {
     "data": {
      "text/plain": [
       "'1'"
      ]
     },
     "execution_count": 60,
     "metadata": {},
     "output_type": "execute_result"
    }
   ],
   "source": [
    "Select_2.css(\"div > p:nth-child(5)::text\").getall()[2]"
   ]
  },
  {
   "cell_type": "markdown",
   "metadata": {},
   "source": [
    "pattern"
   ]
  },
  {
   "cell_type": "code",
   "execution_count": 61,
   "metadata": {},
   "outputs": [
    {
     "data": {
      "text/plain": [
       "'Printed'"
      ]
     },
     "execution_count": 61,
     "metadata": {},
     "output_type": "execute_result"
    }
   ],
   "source": [
    "Select_2.css(\" div > p:nth-child(4)::text\").getall()[2]"
   ]
  },
  {
   "cell_type": "markdown",
   "metadata": {},
   "source": [
    "sleeve"
   ]
  },
  {
   "cell_type": "code",
   "execution_count": 62,
   "metadata": {},
   "outputs": [
    {
     "data": {
      "text/plain": [
       "'Three-Quarter Sleeves'"
      ]
     },
     "execution_count": 62,
     "metadata": {},
     "output_type": "execute_result"
    }
   ],
   "source": [
    "Select_2.css(\"div > p:nth-child(3)::text\").getall()[2]"
   ]
  },
  {
   "cell_type": "code",
   "execution_count": 63,
   "metadata": {},
   "outputs": [
    {
     "data": {
      "text/plain": [
       "20"
      ]
     },
     "execution_count": 63,
     "metadata": {},
     "output_type": "execute_result"
    }
   ],
   "source": [
    "len(cleaned_prices)"
   ]
  },
  {
   "cell_type": "code",
   "execution_count": null,
   "metadata": {},
   "outputs": [],
   "source": [
    "Name=[]\n",
    "size=[]\n",
    "net_quantity=[]\n",
    "fabric=[]\n",
    "pattern=[]\n",
    "sleeve=[]\n",
    "delivery=[]\n",
    "\n",
    "for link in links:\n",
    "    full_link=\"https://www.meesho.com\"+link\n",
    "    response_2=requests.get(full_link)\n",
    "    Select_2=Selector(text=response_2.text)\n",
    "    n=Select_2.css(\".sc-eDvSVe.guezwa.pre.pre::text\").getall()[2]\n",
    "    Name.append(n)\n",
    "    s=Select_2.css(\".sc-eDvSVe.gttzLo::text\").get()\n",
    "    size.append(s)\n",
    "    q=Select_2.css(\"div > p:nth-child(5)::text\").getall()[2]\n",
    "    net_quantity.append(q)\n",
    "    f=Select_2.css(\"div > p:nth-child(2)::text\").getall()\n",
    "    # Join the list into a single string and strip leading/trailing whitespace\n",
    "    cleaned_text = \" \".join(f).strip()\n",
    "\n",
    "   # Regular expression to extract the fabric name after the word 'Fabric'\n",
    "    match = re.search(r\"Fabric\\s*[:\\-]?\\s*(\\w+)\", cleaned_text)\n",
    "\n",
    "    # Check if a match was found\n",
    "    if match:\n",
    "        fabric_n = match.group(1)  # Extract the fabric name\n",
    "    else:\n",
    "        fabric_n = \"Unknown\"  # Fallback if no match found\n",
    "    fabric.append(fabric_n)\n",
    "    d=Select_2.css(\" div > p:nth-child(4)::text\").getall()[2]\n",
    "    pattern.append(d)\n",
    "    s=Select_2.css(\"div > p:nth-child(3)::text\").getall()[2]\n",
    "    sleeve.append(s)\n",
    "    d=Select_2.css(\".sc-eDvSVe.fkvMlU::text\").get()\n",
    "    delivery.append(d)\n",
    "   \n",
    "   \n",
    "\n"
   ]
  },
  {
   "cell_type": "code",
   "execution_count": 65,
   "metadata": {},
   "outputs": [],
   "source": [
    "df = pd.DataFrame({'names':name,\n",
    "                'sizes':size,\n",
    "                'prices':cleaned_prices,\n",
    "                'fabrics':fabric,\n",
    "                'sleeves':sleeve,\n",
    "                'net_quantities':net_quantity,\n",
    "                'patterns': pattern,\n",
    "                'ratings': rating,\n",
    "                'delivery_':delivery})"
   ]
  },
  {
   "cell_type": "code",
   "execution_count": 66,
   "metadata": {},
   "outputs": [
    {
     "data": {
      "text/html": [
       "<div>\n",
       "<style scoped>\n",
       "    .dataframe tbody tr th:only-of-type {\n",
       "        vertical-align: middle;\n",
       "    }\n",
       "\n",
       "    .dataframe tbody tr th {\n",
       "        vertical-align: top;\n",
       "    }\n",
       "\n",
       "    .dataframe thead th {\n",
       "        text-align: right;\n",
       "    }\n",
       "</style>\n",
       "<table border=\"1\" class=\"dataframe\">\n",
       "  <thead>\n",
       "    <tr style=\"text-align: right;\">\n",
       "      <th></th>\n",
       "      <th>names</th>\n",
       "      <th>sizes</th>\n",
       "      <th>prices</th>\n",
       "      <th>fabrics</th>\n",
       "      <th>sleeves</th>\n",
       "      <th>net_quantities</th>\n",
       "      <th>patterns</th>\n",
       "      <th>ratings</th>\n",
       "      <th>delivery_</th>\n",
       "    </tr>\n",
       "  </thead>\n",
       "  <tbody>\n",
       "    <tr>\n",
       "      <th>0</th>\n",
       "      <td>Zamaisha Rayon Tops &amp; Tunics</td>\n",
       "      <td>XS</td>\n",
       "      <td>242</td>\n",
       "      <td>Rayon</td>\n",
       "      <td>Three-Quarter Sleeves</td>\n",
       "      <td>1</td>\n",
       "      <td>Printed</td>\n",
       "      <td>4.0</td>\n",
       "      <td>Free Delivery</td>\n",
       "    </tr>\n",
       "    <tr>\n",
       "      <th>1</th>\n",
       "      <td>Pretty Graceful Women Tops &amp; Tunics</td>\n",
       "      <td>XXS</td>\n",
       "      <td>155</td>\n",
       "      <td>Lycra</td>\n",
       "      <td>Sleeveless</td>\n",
       "      <td>2</td>\n",
       "      <td>Solid</td>\n",
       "      <td>4.2</td>\n",
       "      <td>Free Delivery</td>\n",
       "    </tr>\n",
       "    <tr>\n",
       "      <th>2</th>\n",
       "      <td>Pretty Latest Women Tops &amp; Tunics</td>\n",
       "      <td>XXS</td>\n",
       "      <td>153</td>\n",
       "      <td>Cotton</td>\n",
       "      <td>Long Sleeves</td>\n",
       "      <td>1</td>\n",
       "      <td>Solid</td>\n",
       "      <td>4.0</td>\n",
       "      <td>Free Delivery</td>\n",
       "    </tr>\n",
       "    <tr>\n",
       "      <th>3</th>\n",
       "      <td>Trendy Glamorous Women Tops &amp; Tunics</td>\n",
       "      <td>XS</td>\n",
       "      <td>203</td>\n",
       "      <td>Cotton</td>\n",
       "      <td>Long Sleeves</td>\n",
       "      <td>1</td>\n",
       "      <td>Solid</td>\n",
       "      <td>4.2</td>\n",
       "      <td>Free Delivery</td>\n",
       "    </tr>\n",
       "    <tr>\n",
       "      <th>4</th>\n",
       "      <td>Stylish Fabulous Women Tops &amp; Tunics</td>\n",
       "      <td>XS</td>\n",
       "      <td>164</td>\n",
       "      <td>Cotton</td>\n",
       "      <td>Long Sleeves</td>\n",
       "      <td>1</td>\n",
       "      <td>Solid</td>\n",
       "      <td>4.1</td>\n",
       "      <td>Free Delivery</td>\n",
       "    </tr>\n",
       "    <tr>\n",
       "      <th>5</th>\n",
       "      <td>Fancy Glamorous Women Tops &amp; Tunics</td>\n",
       "      <td>M</td>\n",
       "      <td>251</td>\n",
       "      <td>Rayon</td>\n",
       "      <td>Three-Quarter Sleeves</td>\n",
       "      <td></td>\n",
       "      <td>Printed</td>\n",
       "      <td>4.0</td>\n",
       "      <td>Free Delivery</td>\n",
       "    </tr>\n",
       "    <tr>\n",
       "      <th>6</th>\n",
       "      <td>Aagyeyi Pretty  Tops &amp; Tunics</td>\n",
       "      <td>S</td>\n",
       "      <td>281</td>\n",
       "      <td>Crepe</td>\n",
       "      <td>Three-Quarter Sleeves</td>\n",
       "      <td>2</td>\n",
       "      <td>Printed</td>\n",
       "      <td>3.7</td>\n",
       "      <td>Free Delivery</td>\n",
       "    </tr>\n",
       "    <tr>\n",
       "      <th>7</th>\n",
       "      <td>Trendy Sensational Women Tops &amp; Tunics</td>\n",
       "      <td>XS</td>\n",
       "      <td>179</td>\n",
       "      <td>Lycra</td>\n",
       "      <td>Long Sleeves</td>\n",
       "      <td>1</td>\n",
       "      <td>Solid</td>\n",
       "      <td>4.0</td>\n",
       "      <td>Free Delivery</td>\n",
       "    </tr>\n",
       "    <tr>\n",
       "      <th>8</th>\n",
       "      <td>Classic Designer Women Tops &amp; Tunics</td>\n",
       "      <td>S</td>\n",
       "      <td>201</td>\n",
       "      <td>Georgette</td>\n",
       "      <td>Three-Quarter Sleeves</td>\n",
       "      <td>1</td>\n",
       "      <td>Chikankari</td>\n",
       "      <td>3.9</td>\n",
       "      <td>Free Delivery</td>\n",
       "    </tr>\n",
       "    <tr>\n",
       "      <th>9</th>\n",
       "      <td>Classy Elegant Women  &amp; Tunics</td>\n",
       "      <td>S</td>\n",
       "      <td>248</td>\n",
       "      <td>Rayon</td>\n",
       "      <td>Three-Quarter Sleeves</td>\n",
       "      <td>1</td>\n",
       "      <td>Printed</td>\n",
       "      <td>4.0</td>\n",
       "      <td>Free Delivery</td>\n",
       "    </tr>\n",
       "    <tr>\n",
       "      <th>10</th>\n",
       "      <td>Fancy Fabulous Women Tops &amp; Tunics</td>\n",
       "      <td>XS</td>\n",
       "      <td>189</td>\n",
       "      <td>Polycotton</td>\n",
       "      <td>Short Sleeves</td>\n",
       "      <td>1</td>\n",
       "      <td>Printed</td>\n",
       "      <td>4.0</td>\n",
       "      <td>Free Delivery</td>\n",
       "    </tr>\n",
       "    <tr>\n",
       "      <th>11</th>\n",
       "      <td>Classic Partywear Women Tops &amp; Tunics</td>\n",
       "      <td>XXS</td>\n",
       "      <td>204</td>\n",
       "      <td>Cotton</td>\n",
       "      <td>Three-Quarter Sleeves</td>\n",
       "      <td>2</td>\n",
       "      <td>Printed</td>\n",
       "      <td>4.0</td>\n",
       "      <td>Free Delivery</td>\n",
       "    </tr>\n",
       "    <tr>\n",
       "      <th>12</th>\n",
       "      <td>Fancy Partywear Women Tops &amp; Tunics</td>\n",
       "      <td>S</td>\n",
       "      <td>229</td>\n",
       "      <td>Rayon</td>\n",
       "      <td>Short Sleeves</td>\n",
       "      <td>1</td>\n",
       "      <td>Printed</td>\n",
       "      <td>3.9</td>\n",
       "      <td>Free Delivery</td>\n",
       "    </tr>\n",
       "    <tr>\n",
       "      <th>13</th>\n",
       "      <td>Trendy Designer Women Tops &amp; Tunics</td>\n",
       "      <td>S</td>\n",
       "      <td>204</td>\n",
       "      <td>Cotton</td>\n",
       "      <td>Short Sleeves</td>\n",
       "      <td>2</td>\n",
       "      <td>Printed</td>\n",
       "      <td>4.0</td>\n",
       "      <td>Free Delivery</td>\n",
       "    </tr>\n",
       "    <tr>\n",
       "      <th>14</th>\n",
       "      <td>Pretty Glamorous Women Tops &amp; Tunics</td>\n",
       "      <td>S</td>\n",
       "      <td>194</td>\n",
       "      <td>Crepe</td>\n",
       "      <td>Three-Quarter Sleeves</td>\n",
       "      <td>1</td>\n",
       "      <td>Printed</td>\n",
       "      <td>3.8</td>\n",
       "      <td>Free Delivery</td>\n",
       "    </tr>\n",
       "    <tr>\n",
       "      <th>15</th>\n",
       "      <td>Dream Beauty Fashion Women's Tops &amp; Tunics</td>\n",
       "      <td>XS</td>\n",
       "      <td>189</td>\n",
       "      <td>Polyester</td>\n",
       "      <td>Short Sleeves</td>\n",
       "      <td>1</td>\n",
       "      <td>Solid</td>\n",
       "      <td>3.9</td>\n",
       "      <td>Free Delivery</td>\n",
       "    </tr>\n",
       "    <tr>\n",
       "      <th>16</th>\n",
       "      <td>Myra AttractiveTop and Tunics</td>\n",
       "      <td>M</td>\n",
       "      <td>214</td>\n",
       "      <td>Rayon</td>\n",
       "      <td>Three-Quarter Sleeves</td>\n",
       "      <td>1</td>\n",
       "      <td>Embroidered</td>\n",
       "      <td>4.1</td>\n",
       "      <td>Free Delivery</td>\n",
       "    </tr>\n",
       "    <tr>\n",
       "      <th>17</th>\n",
       "      <td>Trendy Latest Women Tops &amp; Tunics</td>\n",
       "      <td>S</td>\n",
       "      <td>184</td>\n",
       "      <td>Cotton</td>\n",
       "      <td>Short Sleeves</td>\n",
       "      <td>1</td>\n",
       "      <td>Printed</td>\n",
       "      <td>3.8</td>\n",
       "      <td>Free Delivery</td>\n",
       "    </tr>\n",
       "    <tr>\n",
       "      <th>18</th>\n",
       "      <td>Pretty Sensational Women Tops &amp; Tunics</td>\n",
       "      <td>S</td>\n",
       "      <td>228</td>\n",
       "      <td>Rayon</td>\n",
       "      <td>Short Sleeves</td>\n",
       "      <td>1</td>\n",
       "      <td>Printed</td>\n",
       "      <td>3.9</td>\n",
       "      <td>Free Delivery</td>\n",
       "    </tr>\n",
       "    <tr>\n",
       "      <th>19</th>\n",
       "      <td>Stylish Partywear Women Tops &amp; Tunics</td>\n",
       "      <td>S</td>\n",
       "      <td>165</td>\n",
       "      <td>Cotton</td>\n",
       "      <td>Short Sleeves</td>\n",
       "      <td>1</td>\n",
       "      <td>Solid</td>\n",
       "      <td>4.1</td>\n",
       "      <td>Free Delivery</td>\n",
       "    </tr>\n",
       "  </tbody>\n",
       "</table>\n",
       "</div>"
      ],
      "text/plain": [
       "                                         names sizes prices     fabrics  \\\n",
       "0                 Zamaisha Rayon Tops & Tunics    XS    242       Rayon   \n",
       "1          Pretty Graceful Women Tops & Tunics   XXS    155       Lycra   \n",
       "2            Pretty Latest Women Tops & Tunics   XXS    153      Cotton   \n",
       "3         Trendy Glamorous Women Tops & Tunics    XS    203      Cotton   \n",
       "4         Stylish Fabulous Women Tops & Tunics    XS    164      Cotton   \n",
       "5          Fancy Glamorous Women Tops & Tunics     M    251       Rayon   \n",
       "6                Aagyeyi Pretty  Tops & Tunics     S    281       Crepe   \n",
       "7       Trendy Sensational Women Tops & Tunics    XS    179       Lycra   \n",
       "8         Classic Designer Women Tops & Tunics     S    201   Georgette   \n",
       "9               Classy Elegant Women  & Tunics     S    248       Rayon   \n",
       "10          Fancy Fabulous Women Tops & Tunics    XS    189  Polycotton   \n",
       "11       Classic Partywear Women Tops & Tunics   XXS    204      Cotton   \n",
       "12         Fancy Partywear Women Tops & Tunics     S    229       Rayon   \n",
       "13         Trendy Designer Women Tops & Tunics     S    204      Cotton   \n",
       "14        Pretty Glamorous Women Tops & Tunics     S    194       Crepe   \n",
       "15  Dream Beauty Fashion Women's Tops & Tunics    XS    189   Polyester   \n",
       "16               Myra AttractiveTop and Tunics     M    214       Rayon   \n",
       "17           Trendy Latest Women Tops & Tunics     S    184      Cotton   \n",
       "18      Pretty Sensational Women Tops & Tunics     S    228       Rayon   \n",
       "19       Stylish Partywear Women Tops & Tunics     S    165      Cotton   \n",
       "\n",
       "                  sleeves net_quantities     patterns ratings      delivery_  \n",
       "0   Three-Quarter Sleeves              1      Printed     4.0  Free Delivery  \n",
       "1              Sleeveless              2        Solid     4.2  Free Delivery  \n",
       "2            Long Sleeves              1        Solid     4.0  Free Delivery  \n",
       "3            Long Sleeves              1        Solid     4.2  Free Delivery  \n",
       "4            Long Sleeves              1        Solid     4.1  Free Delivery  \n",
       "5   Three-Quarter Sleeves                     Printed     4.0  Free Delivery  \n",
       "6   Three-Quarter Sleeves              2      Printed     3.7  Free Delivery  \n",
       "7            Long Sleeves              1        Solid     4.0  Free Delivery  \n",
       "8   Three-Quarter Sleeves              1   Chikankari     3.9  Free Delivery  \n",
       "9   Three-Quarter Sleeves              1      Printed     4.0  Free Delivery  \n",
       "10          Short Sleeves              1      Printed     4.0  Free Delivery  \n",
       "11  Three-Quarter Sleeves              2      Printed     4.0  Free Delivery  \n",
       "12          Short Sleeves              1      Printed     3.9  Free Delivery  \n",
       "13          Short Sleeves              2      Printed     4.0  Free Delivery  \n",
       "14  Three-Quarter Sleeves              1      Printed     3.8  Free Delivery  \n",
       "15          Short Sleeves              1        Solid     3.9  Free Delivery  \n",
       "16  Three-Quarter Sleeves              1  Embroidered     4.1  Free Delivery  \n",
       "17          Short Sleeves              1      Printed     3.8  Free Delivery  \n",
       "18          Short Sleeves              1      Printed     3.9  Free Delivery  \n",
       "19          Short Sleeves              1        Solid     4.1  Free Delivery  "
      ]
     },
     "execution_count": 66,
     "metadata": {},
     "output_type": "execute_result"
    }
   ],
   "source": [
    "df"
   ]
  },
  {
   "cell_type": "code",
   "execution_count": 67,
   "metadata": {},
   "outputs": [
    {
     "name": "stdout",
     "output_type": "stream",
     "text": [
      "<class 'pandas.core.frame.DataFrame'>\n",
      "RangeIndex: 20 entries, 0 to 19\n",
      "Data columns (total 9 columns):\n",
      " #   Column          Non-Null Count  Dtype \n",
      "---  ------          --------------  ----- \n",
      " 0   names           20 non-null     object\n",
      " 1   sizes           20 non-null     object\n",
      " 2   prices          20 non-null     object\n",
      " 3   fabrics         20 non-null     object\n",
      " 4   sleeves         20 non-null     object\n",
      " 5   net_quantities  20 non-null     object\n",
      " 6   patterns        20 non-null     object\n",
      " 7   ratings         20 non-null     object\n",
      " 8   delivery_       20 non-null     object\n",
      "dtypes: object(9)\n",
      "memory usage: 1.5+ KB\n"
     ]
    }
   ],
   "source": [
    "df.info()"
   ]
  },
  {
   "cell_type": "code",
   "execution_count": 70,
   "metadata": {},
   "outputs": [],
   "source": [
    "df.to_csv(\"D:/me204/Meesho Project/Data/Raw/Meesho_Project_Uncleaning.csv\", index = False)"
   ]
  }
 ],
 "metadata": {
  "kernelspec": {
   "display_name": "Python 3",
   "language": "python",
   "name": "python3"
  },
  "language_info": {
   "codemirror_mode": {
    "name": "ipython",
    "version": 3
   },
   "file_extension": ".py",
   "mimetype": "text/x-python",
   "name": "python",
   "nbconvert_exporter": "python",
   "pygments_lexer": "ipython3",
   "version": "3.12.5"
  }
 },
 "nbformat": 4,
 "nbformat_minor": 2
}
